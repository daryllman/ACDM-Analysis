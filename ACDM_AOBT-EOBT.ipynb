{
 "nbformat": 4,
 "nbformat_minor": 2,
 "metadata": {
  "language_info": {
   "name": "python",
   "codemirror_mode": {
    "name": "ipython",
    "version": 3
   },
   "version": "3.7.4"
  },
  "orig_nbformat": 2,
  "file_extension": ".py",
  "mimetype": "text/x-python",
  "name": "python",
  "npconvert_exporter": "python",
  "pygments_lexer": "ipython3",
  "version": 3
 },
 "cells": [
  {
   "cell_type": "markdown",
   "metadata": {},
   "outputs": [],
   "source": [
    "# Aircraft-Collaborative Decision Making (ACDM) Performance Analysis\n",
    "Jupyter Notebook for Aircraft-Collaborative Decision Making (ACDM) Analysis - Simple Data Viz\n",
    "\n",
    "## Preface\n",
    "This is just a simple data visualisation notebook using airport flight datasets - for ACDM performance measurement purposes.    \n",
    "According to [Skytrax](https://www.worldairlineawards.com/worlds-most-improved-airlines-2019/), Philippine Airlines have been named the World's Most Improved Airline in 2019.      \n",
    "Hence for the performance analysis of this excercise, we will be narrowing in on Philippine Airlines and make **simple data viz** of its performance, and observing its improvements.       \n",
    "<br/>\n",
    "## Some important information of Philippine Airlines:      \n",
    "**IATA Code: PR**      \n",
    "**ICAO Code: PAL**"
   ]
  },
  {
   "cell_type": "markdown",
   "metadata": {},
   "outputs": [],
   "source": [
    "### Make sure Jupyter is in correct directory\n",
    "Check current directory with 'pwd'.\n",
    "```\n",
    "pwd \n",
    "```\n",
    "\n",
    "If not in correct directory, 'cd' to the right folder. eg.\n",
    "```\n",
    "cd Analysis/\n",
    "```\n"
   ]
  },
  {
   "cell_type": "code",
   "metadata": {},
   "outputs": [],
   "source": [
    "pwd"
   ]
  },
  {
   "cell_type": "code",
   "metadata": {},
   "outputs": [],
   "source": [
    "cd Analysis/"
   ]
  },
  {
   "cell_type": "code",
   "metadata": {},
   "outputs": [],
   "source": [
    "pwd"
   ]
  },
  {
   "cell_type": "markdown",
   "metadata": {},
   "outputs": [],
   "source": [
    "# Setup Pandas & DataFrame"
   ]
  },
  {
   "cell_type": "code",
   "metadata": {},
   "outputs": [],
   "source": [
    "import pandas as pd \n",
    "\n",
    "\n",
    "# Key in your file name\n",
    "#excelFileName = 'sample_short_1.xlsx'\n",
    "#sheetName = 'Sheet1'\n",
    "excelFileName = 'sampleMarApr.xlsx'\n",
    "sheetName = 'MarApr2018'\n",
    "\n",
    "# Create DataFrame\n",
    "df = pd.read_excel(excelFileName, sheet_name = sheetName)\n",
    "#df = pd.read_excel(excelFileName, sheet_name = sheetName).astype(str)  # If there is a need to convert to string as the long int will automatically be converted down\n",
    "\n",
    "\n",
    "#print(df.head())\n",
    "\n",
    "#print(df.shape)\n",
    "\n",
    "print(df.columns.values)"
   ]
  },
  {
   "cell_type": "markdown",
   "metadata": {},
   "outputs": [],
   "source": [
    "# Preparing Datasets\n",
    "## 1. Filter to One Airline \n",
    "Philippine Airlines for our case\n",
    "\n",
    "## 2. Drop useless datasets\n",
    "\n",
    "A. For our given dataset, we should remove the columns that we dont need to minimise size of dataframe.     \n",
    "we only need AOBT and EOBT           \n",
    "\n",
    "B. we have to remove datasets that is Null for any attribute    \n",
    "(those with Null is useless to us as we cannot do our desired operation of AOBT-EOBT)\n",
    "\n",
    "## 3. Convert Date-Time of AOBT and EOBT to seconds\n",
    "This is for easier operation and handling of the value given\n",
    "\n",
    "## 4. Order the datasets chronologically\n",
    "For our given dataset, we have to order them chronologically by Date-Time\n",
    "\n",
    "## 5. Create another csv/xlsx file \n",
    "(optional, you can also work with current dataframe)\n",
    "\n"
   ]
  },
  {
   "cell_type": "code",
   "metadata": {},
   "outputs": [],
   "source": [
    "##################################\n",
    "#### 1. Filter to One Airline ####\n",
    "##################################\n",
    "# Filter to remaining datasets with Philippines Airlines\n",
    "\n",
    "\n",
    "\n",
    "#df = df.dropna()\n",
    "#print(df)\n",
    "def filterIATA(df, IATAcode):\n",
    "  return df.loc[df['IATA'] == 'PR']\n",
    "\n",
    "df = filterIATA(df, 'PR')\n",
    "df = df.reset_index(drop=True)\n",
    "\n",
    "#print(df.loc[df['IATA'] == 'PR'])\n",
    "print(df)\n",
    "\n"
   ]
  },
  {
   "cell_type": "code",
   "metadata": {},
   "outputs": [],
   "source": [
    "##################################\n",
    "#### 2. Drop Useless Datasets ####\n",
    "##################################\n",
    "\n",
    "\n",
    "\n",
    "# A. Streamline dataset (only need AOBT and EOBT)\n",
    "#################################################\n",
    "df = df[['IATA aircraft','ICAO aircraft','Arrival/Departure','IATA','ICAO','EOBT',\n",
    " 'AOBT','CALLSIGN']]\n",
    "\n",
    "\n",
    "\n",
    "\n",
    "# B. Remove datasets with Null/NaN in any attribute\n",
    "###################################################\n",
    "\n",
    "#Note that the blank cells given are not really a np.NaN object. \n",
    "#its a null, which pandas does not recognise and cant use df.dropna()\n",
    "#we need to replace the null with np.nan first.\n",
    "'''\n",
    "OR\n",
    "filter = df[\"Tenant\"] != \"\"\n",
    "dfNew = df[filter]\n",
    "'''\n",
    "df['EOBT'].replace('', np.nan, inplace=True)\n",
    "df['AOBT'].replace('', np.nan, inplace=True)\n",
    "\n",
    "df = df.dropna()\n",
    "df = df.reset_index(drop=True) #reset index back to order( 0,1,2,3...)\n",
    "print(df)\n"
   ]
  },
  {
   "cell_type": "code",
   "metadata": {},
   "outputs": [],
   "source": []
  },
  {
   "cell_type": "code",
   "metadata": {},
   "outputs": [],
   "source": [
    "##########################################################\n",
    "#### 3. Convert Date-Time of AOBT and EOBT to seconds ####\n",
    "##########################################################\n",
    "\n",
    "\n",
    "\n",
    "\n",
    "#retrieve min and max values first - to be used later on - to be used as references\n",
    "minEOBT = str(df['EOBT'].min())\n",
    "maxEOBT = str(df['EOBT'].max())\n",
    "minEOBT = removeFloat(minEOBT)\n",
    "maxEOBT = removeFloat(maxEOBT)\n",
    "print(minEOBT)\n",
    "print(maxEOBT)\n",
    "\n",
    "\n",
    "# Current data type is in float.\n",
    "# Note Not sure why converting float to int turns '2.018033e+13' to '-2147483648 '\n",
    "# Approach: Convert to string then drop the floating point\n",
    "###########################################################\n",
    "print(df)\n",
    "def removeFloat(x):\n",
    "  #return x[:,-2]\n",
    "  return x[:-2]\n",
    "\n",
    "df[[\"AOBT\", \"EOBT\"]] = df[[\"AOBT\", \"EOBT\"]].astype(str)\n",
    "\n",
    "\n",
    "\n",
    "#df[[\"AOBT\", \"EOBT\"]] = df.loc[\"AOBT\", \"EOBT\"].apply(removeFloat)\n",
    "#df = df.apply(lambda x: removeFloat(x) if x.name in ['EOBT', 'AOBT'] else x, axis=1)\n",
    "df['AOBT'] = df['AOBT'].apply(removeFloat)\n",
    "df['EOBT'] = df['EOBT'].apply(removeFloat)\n",
    "\n",
    "print(df)\n",
    "\n",
    "\n",
    "\n",
    "\n",
    "\n",
    "# Convert to seconds -- deducted with base reference (we use minEOBT as base reference)\n",
    "##########################################################\n",
    "from datetime import datetime\n",
    "\n",
    "# input: string of yyyymmddhhmmss | output: datetime\n",
    "def createDateTime(datetimeStr):\n",
    "  year = int(datetimeStr[0:4])\n",
    "  month = int(datetimeStr[4:6])\n",
    "  day = int(datetimeStr[6:8])\n",
    "  hour = int(datetimeStr[8:10])\n",
    "  minute = int(datetimeStr[10:12])\n",
    "  second = int(datetimeStr[12:14])\n",
    "  return datetime(year=year,\n",
    "                month=month,\n",
    "                day=day,\n",
    "                hour=hour,\n",
    "                minute=minute,\n",
    "                second=second)\n",
    "\n",
    "# We use the min EOBT as base reference\n",
    "minRefDateTime = createDateTime(minEOBT)\n",
    "\n",
    "# Convert to seconds (relative) -- deducted with base reference too \n",
    "def secondsRelativeConvert(dateTimeStr):\n",
    "  thisDateTime = createDateTime(dateTimeStr)\n",
    "  timeDelta = thisDateTime - minRefDateTime\n",
    "  timeDeltaSeconds = timeDelta.total_seconds()\n",
    "  return int(timeDeltaSeconds)\n",
    "\n",
    "\n",
    "#___________________________________________________________________________________________________\n",
    "### Now we are ready to use secondsConvert() to convert the string AOBT & EOBT to seconds (relative)\n",
    "# Note they are now in Integer form.\n",
    "df['AOBT'] = df['AOBT'].apply(secondsRelativeConvert)\n",
    "df['EOBT'] = df['EOBT'].apply(secondsRelativeConvert)\n",
    "\n",
    "print(df)\n"
   ]
  },
  {
   "cell_type": "code",
   "metadata": {},
   "outputs": [],
   "source": [
    "##########################################################\n",
    "#### 4. Order the datasets chronologically ####\n",
    "##########################################################\n",
    "# From top to bottom, from  earliest to latest.\n",
    "# we take EOBT as a gauge. ---note in long run, we should use a better indicator, but this works for now as the airlines is not flying so often that simultaneously flight happens.\n",
    "\n",
    "df.sort_values(by=['EOBT'], inplace=True, ascending=True)\n",
    "df = df.reset_index(drop=True)\n",
    "print(df)\n"
   ]
  },
  {
   "cell_type": "markdown",
   "metadata": {},
   "outputs": [],
   "source": [
    "# Further Calculations\n",
    "## Generate AOBT - EOBT data\n",
    "Now with AOBT and EOBT expressed in seconds (integers),       \n",
    "we can find their difference to get AOBT-EOBT in seconds(integers) as well.     \n",
    "\n",
    "This is so we can have **3 plots on the same graph**:\n",
    "- AOBT\n",
    "- EOBT\n",
    "- AOBT-EOBT\n",
    "And visualise the trends/dynamics between these 3 variables."
   ]
  },
  {
   "cell_type": "code",
   "metadata": {},
   "outputs": [],
   "source": [
    "############################\n",
    "#### Generate AOBT-EOBT ####\n",
    "############################\n",
    "df['AOBT-EOBT'] = df['AOBT'] - df['EOBT']\n",
    "print(df)"
   ]
  },
  {
   "cell_type": "code",
   "metadata": {},
   "outputs": [],
   "source": [
    "# Generate new xslx file from final DataFrame"
   ]
  },
  {
   "cell_type": "code",
   "metadata": {},
   "outputs": [],
   "source": [
    "#################################################################\n",
    "#### (Optional) Generate new xslx file from final DataFrame #####\n",
    "#################################################################\n",
    "\n",
    "import pandas as pd\n",
    "from pandas import ExcelWriter\n",
    "from pandas import ExcelFile\n",
    "\n",
    "newFileName = 'sampleMarAprNEW.xlsx'\n",
    "newSheetName = 'Sheet1'\n",
    "\n",
    "# Create a Pandas Excel writer using XlsxWriter as the engine.\n",
    "writer = pd.ExcelWriter(newFileName, engine='xlsxwriter')\n",
    "\n",
    "# Convert the dataframe to an XlsxWriter Excel object.\n",
    "df.to_excel(writer, sheet_name=newSheetName)\n",
    "\n",
    "# Close the Pandas Excel writer and output the Excel file.\n",
    "writer.save()\n"
   ]
  },
  {
   "cell_type": "code",
   "metadata": {},
   "outputs": [],
   "source": [
    "# Data Visualisation\n",
    "## With M"
   ]
  },
  {
   "cell_type": "code",
   "metadata": {},
   "outputs": [],
   "source": [
    "# Import libraries\n",
    "import matplotlib.pyplot as plt \n",
    "import numpy as np "
   ]
  },
  {
   "cell_type": "code",
   "metadata": {},
   "outputs": [],
   "source": [
    "print(int('28'))"
   ]
  },
  {
   "cell_type": "code",
   "metadata": {},
   "outputs": [],
   "source": []
  },
  {
   "cell_type": "code",
   "metadata": {},
   "outputs": [],
   "source": []
  }
 ]
}